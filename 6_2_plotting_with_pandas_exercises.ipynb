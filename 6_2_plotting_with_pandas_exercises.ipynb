{
  "nbformat": 4,
  "nbformat_minor": 0,
  "metadata": {
    "colab": {
      "name": "6.2_plotting-with-pandas_exercises.ipynb",
      "provenance": [],
      "collapsed_sections": [],
      "include_colab_link": true
    },
    "kernelspec": {
      "name": "python3",
      "display_name": "Python 3"
    }
  },
  "cells": [
    {
      "cell_type": "markdown",
      "metadata": {
        "id": "view-in-github",
        "colab_type": "text"
      },
      "source": [
        "<a href=\"https://colab.research.google.com/github/data-newbie/atom/blob/master/6_2_plotting_with_pandas_exercises.ipynb\" target=\"_parent\"><img src=\"https://colab.research.google.com/assets/colab-badge.svg\" alt=\"Open In Colab\"/></a>"
      ]
    },
    {
      "cell_type": "markdown",
      "metadata": {
        "id": "zjA-fzBtFv8T",
        "colab_type": "text"
      },
      "source": [
        "## `Import Pandas as pd`\n",
        "## `%matplotlib inline`"
      ]
    },
    {
      "cell_type": "code",
      "metadata": {
        "id": "5vAcgsafFv8W",
        "colab_type": "code",
        "colab": {}
      },
      "source": [
        "import pandas as pd\n",
        "%matplotlib inline"
      ],
      "execution_count": 0,
      "outputs": []
    },
    {
      "cell_type": "code",
      "metadata": {
        "id": "LaOPcHQ4JWOV",
        "colab_type": "code",
        "colab": {}
      },
      "source": [
        ""
      ],
      "execution_count": 0,
      "outputs": []
    },
    {
      "cell_type": "markdown",
      "metadata": {
        "id": "EeQvvTPrFv8o",
        "colab_type": "text"
      },
      "source": [
        "## Load in the file `price_data.csv` into an object called `data`\n",
        "Look at its first few rows using `.head()`."
      ]
    },
    {
      "cell_type": "code",
      "metadata": {
        "id": "QgKMlITiFv8r",
        "colab_type": "code",
        "colab": {}
      },
      "source": [
        "price_data = 'https://ga-instruction.s3.amazonaws.com/assets/Data%20Fundamentals/linked-csv-files/price_data.csv'\n",
        "data = pd.read_csv(price_data)"
      ],
      "execution_count": 0,
      "outputs": []
    },
    {
      "cell_type": "markdown",
      "metadata": {
        "id": "7UIHL8gjFv81",
        "colab_type": "text"
      },
      "source": [
        "## Use `.plot()` on the entire `DataFrame`."
      ]
    },
    {
      "cell_type": "code",
      "metadata": {
        "id": "Ko00C4dvFv83",
        "colab_type": "code",
        "colab": {}
      },
      "source": [
        ""
      ],
      "execution_count": 0,
      "outputs": []
    },
    {
      "cell_type": "markdown",
      "metadata": {
        "id": "kx6JNVinFv88",
        "colab_type": "text"
      },
      "source": [
        "## Use `reset_index` to make a separate column out of the index."
      ]
    },
    {
      "cell_type": "code",
      "metadata": {
        "id": "5bJCXwe-Fv8-",
        "colab_type": "code",
        "colab": {}
      },
      "source": [
        ""
      ],
      "execution_count": 0,
      "outputs": []
    },
    {
      "cell_type": "markdown",
      "metadata": {
        "id": "MnoLyYPQFv9C",
        "colab_type": "text"
      },
      "source": [
        "## Make it a scatterplot by passing in `kind='scatter'`."
      ]
    },
    {
      "cell_type": "code",
      "metadata": {
        "id": "Ogy0R-m6Fv9E",
        "colab_type": "code",
        "colab": {}
      },
      "source": [
        ""
      ],
      "execution_count": 0,
      "outputs": []
    },
    {
      "cell_type": "markdown",
      "metadata": {
        "id": "3QQ-xvgfFv9R",
        "colab_type": "text"
      },
      "source": [
        "## Make it a histogram of prices by passing in `kind=\"hist\"` and `y=price`."
      ]
    },
    {
      "cell_type": "code",
      "metadata": {
        "id": "_xB5j_3zFv9k",
        "colab_type": "code",
        "colab": {}
      },
      "source": [
        ""
      ],
      "execution_count": 0,
      "outputs": []
    },
    {
      "cell_type": "markdown",
      "metadata": {
        "id": "LBmvhg6JFv9o",
        "colab_type": "text"
      },
      "source": [
        "## Use `.value_counts()` to count the number of entries per country in the `country` column and plot using `kind='bar'`."
      ]
    },
    {
      "cell_type": "code",
      "metadata": {
        "id": "mBKCfL1pFv9p",
        "colab_type": "code",
        "colab": {}
      },
      "source": [
        ""
      ],
      "execution_count": 0,
      "outputs": []
    },
    {
      "cell_type": "code",
      "metadata": {
        "id": "_Vd2SwJ0Fv9t",
        "colab_type": "code",
        "colab": {}
      },
      "source": [
        ""
      ],
      "execution_count": 0,
      "outputs": []
    },
    {
      "cell_type": "code",
      "metadata": {
        "id": "ybAj08L2Fv9w",
        "colab_type": "code",
        "colab": {}
      },
      "source": [
        ""
      ],
      "execution_count": 0,
      "outputs": []
    }
  ]
}